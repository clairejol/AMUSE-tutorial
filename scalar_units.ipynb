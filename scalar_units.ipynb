{
 "cells": [
  {
   "cell_type": "markdown",
   "metadata": {},
   "source": [
    "AMUSE tutorial on units\n",
    "====================\n",
    "\n",
    "Here we will start up an AMUSE service in Jupyter notebook and run some example operations."
   ]
  },
  {
   "cell_type": "code",
   "execution_count": 1,
   "metadata": {},
   "outputs": [],
   "source": [
    "#Load in the amuse units module\n",
    "from amuse.units import units"
   ]
  },
  {
   "cell_type": "code",
   "execution_count": 2,
   "metadata": {},
   "outputs": [],
   "source": [
    "# Declare some variables\n",
    "mstar = 1 | units.MSun\n",
    "rstar = 1 | units.RSun"
   ]
  },
  {
   "cell_type": "code",
   "execution_count": 3,
   "metadata": {},
   "outputs": [],
   "source": [
    "# calculate surface escape speed\n",
    "# this requires the gravitational constant to be declared\n",
    "G = 6.67e-11 | units.m**3 * units.kg**-1 * units.s**-2\n",
    "vesc = (2*G*mstar/rstar).sqrt()"
   ]
  },
  {
   "cell_type": "code",
   "execution_count": 4,
   "metadata": {},
   "outputs": [],
   "source": [
    "# aAlternative, define G units beforehand\n",
    "units_G = units.m**3 * units.kg**-1 * units.s**-2\n",
    "G = 6.67e-11 | units_G\n",
    "vesc = (2* G * mstar / rstar).sqrt()"
   ]
  },
  {
   "cell_type": "code",
   "execution_count": 5,
   "metadata": {},
   "outputs": [
    {
     "name": "stdout",
     "output_type": "stream",
     "text": [
      "The escape speed is: 1.15498917744e-05 53476144765.21653 * m * s**-1\n"
     ]
    }
   ],
   "source": [
    "print(\"The escape speed is:\", vesc)"
   ]
  },
  {
   "cell_type": "markdown",
   "metadata": {},
   "source": [
    "This looks weard, right? But it is the right answer. AMUSE will operate on \"lazy calculating\", meaning that it will only perform the actual calculation once it is explicitely asked for it.\n",
    "Not try converting the unit to something more readable."
   ]
  },
  {
   "cell_type": "code",
   "execution_count": 6,
   "metadata": {},
   "outputs": [
    {
     "name": "stdout",
     "output_type": "stream",
     "text": [
      "The escape speed is: 617.64368455 kms\n"
     ]
    }
   ],
   "source": [
    "print(\"The escape speed is:\", vesc.in_(units.kms))"
   ]
  },
  {
   "cell_type": "raw",
   "metadata": {},
   "source": [
    "Now you have to realize, that you used the wrong value for the gravitational constant G. The values of most important constants are stored in the AMUSE framework. They can be accessed by loading in the appropriate module."
   ]
  },
  {
   "cell_type": "code",
   "execution_count": 13,
   "metadata": {},
   "outputs": [
    {
     "name": "stdout",
     "output_type": "stream",
     "text": [
      "The escape speed is: 617.841817311 kms\n"
     ]
    }
   ],
   "source": [
    "from amuse.units.constants import G\n",
    "vesc = (2*G*mstar/rstar).sqrt()\n",
    "print(\"The escape speed is:\", vesc.in_(units.kms))"
   ]
  },
  {
   "cell_type": "markdown",
   "metadata": {},
   "source": [
    "## Assignments"
   ]
  },
  {
   "cell_type": "code",
   "execution_count": 15,
   "metadata": {},
   "outputs": [],
   "source": [
    "mearth = 1 | units.MEarth\n",
    "rearth = 1 | units.REarth\n",
    "dist = 1 | units.AU\n",
    "\n",
    "R = rstar + rearth + dist"
   ]
  },
  {
   "cell_type": "code",
   "execution_count": 23,
   "metadata": {},
   "outputs": [],
   "source": [
    "vorb= (G*mstar/R).sqrt()"
   ]
  },
  {
   "cell_type": "code",
   "execution_count": 25,
   "metadata": {},
   "outputs": [
    {
     "name": "stdout",
     "output_type": "stream",
     "text": [
      "29.7188329962 kms\n"
     ]
    }
   ],
   "source": [
    "print(vorb.in_(units.kms))"
   ]
  },
  {
   "cell_type": "code",
   "execution_count": 32,
   "metadata": {},
   "outputs": [],
   "source": [
    "mBH = 4.1e6 * mstar\n",
    "rBH = 120 | units.AU\n",
    "\n",
    "vescBH = (2*G*mBH/rBH).sqrt()"
   ]
  },
  {
   "cell_type": "code",
   "execution_count": 35,
   "metadata": {},
   "outputs": [
    {
     "name": "stdout",
     "output_type": "stream",
     "text": [
      "7786.89763795 kms\n"
     ]
    }
   ],
   "source": [
    "print(vescBH.in_(units.kms))"
   ]
  },
  {
   "cell_type": "code",
   "execution_count": 69,
   "metadata": {},
   "outputs": [],
   "source": [
    "smaxis = [0.01,3.5] | units.AU\n",
    "ecc = [0,0.4]\n",
    "\n",
    "smaxis1 = 0 | units.AU\n",
    "smaxis2 = 3.5 | units.AU\n",
    "\n",
    "ecc1 = 0\n",
    "ecc2 = 0.4"
   ]
  },
  {
   "cell_type": "code",
   "execution_count": 76,
   "metadata": {},
   "outputs": [],
   "source": [
    "def peridist(ecc, smaxis):\n",
    "    pd = (1+ecc) * smaxis\n",
    "    return pd\n",
    "def apodist(ecc, smaxis):\n",
    "    ad = (1-ecc) * smaxis\n",
    "    return ad\n",
    "\n",
    "def perispeed(ecc, smaxis):\n",
    "    ps = (((1+ecc)*G*mearth)/((1-ecc)*smaxis)).sqrt()\n",
    "    return ps\n",
    "def apospeed(ecc, smaxis):\n",
    "    aps = (((1-ecc)*G*mearth)/((1+ecc)*smaxis)).sqrt()\n",
    "    return aps"
   ]
  },
  {
   "cell_type": "code",
   "execution_count": 78,
   "metadata": {},
   "outputs": [
    {
     "name": "stdout",
     "output_type": "stream",
     "text": [
      "0.516186541122 kms 0.0421464545947 kms 0.516186541122 kms 0.0180627662549 kms\n",
      "0.516186541122 kms 0.0421464545947 kms 0.516186541122 kms 0.0180627662549 kms\n"
     ]
    }
   ],
   "source": [
    "for i in smaxis,ecc:\n",
    "    vplast = perispeed(ecc[0], smaxis[0])\n",
    "    vphast = perispeed(ecc[1], smaxis[1])\n",
    "    valast = apospeed(ecc[0], smaxis[0])\n",
    "    vahast = apospeed(ecc[1], smaxis[1])\n",
    "    print(vplast.in_(units.kms), vphast.in_(units.kms), valast.in_(units.kms), vahast.in_(units.kms))"
   ]
  },
  {
   "cell_type": "code",
   "execution_count": 82,
   "metadata": {},
   "outputs": [
    {
     "name": "stdout",
     "output_type": "stream",
     "text": [
      "The velocities range from 18.0627662549 ms to 516.186541122 ms\n"
     ]
    }
   ],
   "source": [
    "print(\"The velocities range from\", vahast.in_(units.ms), \"to\", vplast.in_(units.ms))"
   ]
  },
  {
   "cell_type": "code",
   "execution_count": 96,
   "metadata": {},
   "outputs": [
    {
     "name": "stdout",
     "output_type": "stream",
     "text": [
      "0.9951523307719451 LSun\n"
     ]
    }
   ],
   "source": [
    "from amuse.units.constants import Stefan_hyphen_Boltzmann_constant as kB\n",
    "SAstar = 6.07e18 | units.m**2\n",
    "Tphot = 5772 | units.K\n",
    "\n",
    "Lpstar = kB * SAstar * (Tphot)**4\n",
    "\n",
    "print(Lpstar.in_(units.LSun))"
   ]
  },
  {
   "cell_type": "code",
   "execution_count": 102,
   "metadata": {},
   "outputs": [
    {
     "name": "stdout",
     "output_type": "stream",
     "text": [
      "The two answers are different because there are differing opinions on where the surface of the sun is. The temperature of the photosphere must be slightly lower than the temperature taken for the value of this constant.\n"
     ]
    }
   ],
   "source": [
    "print(\"The two answers are different because there are differing opinions on where the surface of the sun is. The temperature of the photosphere must be slightly lower than the temperature taken for the value of this constant.\")"
   ]
  },
  {
   "cell_type": "code",
   "execution_count": 104,
   "metadata": {},
   "outputs": [
    {
     "name": "stdout",
     "output_type": "stream",
     "text": [
      "The correct temperature to match the solar luminosity is 5779.01645803 K\n"
     ]
    }
   ],
   "source": [
    "Tcorr = ((Lstar / (kB * SAstar)).sqrt()).sqrt()\n",
    "\n",
    "print(\"The correct temperature to match the solar luminosity is\", Tcorr.in_(units.K))"
   ]
  },
  {
   "cell_type": "markdown",
   "metadata": {},
   "source": [
    "You have now calculated the escape speed from the Solar surface.\n",
    "\n",
    "Assignmnets and questions:\n",
    "---------------\n",
    "\n",
    "### Assignment 1:\n",
    "Calculate the orbital velocity of the planet Earth in orbit around the Sun.\n",
    "\n",
    "### Assignment 2:\n",
    "Calculate the escape speed of the supermassive black hole in the Galactic center from the pericenter of S2 (the star famously used to characterize the central supermassive black hole).\n",
    "\n",
    "### Question 1:\n",
    "What is the range in velocities with which you expect an asteroids to hit the Earth's surface. Assume that there are asteroids with semimajor axes between 0 and 3.5 AU (the outer edge of the asteroid belt), with eccentricities between 0 and 0.4. Note that for an elliptic orbit, the peri- and apocenter distances are $(1\\pm e)a$, and the peri- and apocenter speeds are $\\sqrt{\\frac{(1\\pm e)\\cdot GM}{(1\\mp e)a}}$. Is the acceleration due to the Earth's gravitational well important?\n",
    "\n",
    "### Question 2:\n",
    "With a photospheric effective temporature of 5772K (see [Wikipedia](https://en.wikipedia.org/wiki/Sun)), what is the Sun's luminosity?\n",
    "*note here that the Stefan-Bolzmann constant in AMUSE is available in the units.constants package under the name of Stefan_hyphen_Boltzmann_constant.*\n",
    "\n",
    "Calculate the difference with the standard in AMUSE available solar luminosity (1 | units.LSun). Whay are the two values different?\n",
    "\n",
    "If the discrepancy originates from the photospheric effective temperature from Wikipedia, what would be the correct temperature to match the Solar luminosity?"
   ]
  },
  {
   "cell_type": "code",
   "execution_count": null,
   "metadata": {},
   "outputs": [],
   "source": []
  }
 ],
 "metadata": {
  "kernelspec": {
   "display_name": "Python 3 (ipykernel)",
   "language": "python",
   "name": "python3"
  },
  "language_info": {
   "codemirror_mode": {
    "name": "ipython",
    "version": 3
   },
   "file_extension": ".py",
   "mimetype": "text/x-python",
   "name": "python",
   "nbconvert_exporter": "python",
   "pygments_lexer": "ipython3",
   "version": "3.8.13"
  }
 },
 "nbformat": 4,
 "nbformat_minor": 4
}
